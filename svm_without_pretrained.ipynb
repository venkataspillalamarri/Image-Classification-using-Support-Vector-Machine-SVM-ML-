{
 "cells": [
  {
   "cell_type": "code",
   "execution_count": 1,
   "id": "e31d6bd9",
   "metadata": {},
   "outputs": [],
   "source": [
    "import os\n",
    "import cv2\n",
    "import numpy as np\n",
    "import pandas as pd\n",
    "import matplotlib.pyplot as plt\n",
    "import random\n",
    "from sklearn.model_selection import train_test_split\n",
    "from sklearn.svm import SVC\n",
    "from sklearn.metrics import accuracy_score\n",
    "\n",
    "from sklearn.metrics import classification_report\n"
   ]
  },
  {
   "cell_type": "code",
   "execution_count": null,
   "id": "f1e5b1fd",
   "metadata": {},
   "outputs": [],
   "source": []
  },
  {
   "cell_type": "code",
   "execution_count": 2,
   "id": "4d74b8ef",
   "metadata": {},
   "outputs": [],
   "source": [
    "data_dir = r\"C:\\Users\\18138\\Desktop\\data anly\\Training Image sp 23\"\n",
    "classes = os.listdir(data_dir)\n",
    "images = []\n",
    "labels = []\n",
    "for class_id, class_name in enumerate(classes):\n",
    "    class_dir = os.path.join(data_dir, class_name)\n",
    "    for img_name in os.listdir(class_dir):\n",
    "        img_path = os.path.join(class_dir, img_name)\n",
    "        img = cv2.imread(img_path)\n",
    "        img = cv2.cvtColor(img, cv2.COLOR_BGR2GRAY) # convert to grayscale\n",
    "        img = cv2.resize(img, (224, 224))\n",
    "        images.append(img)\n",
    "        labels.append(class_id)"
   ]
  },
  {
   "cell_type": "code",
   "execution_count": 3,
   "id": "d385b7a1",
   "metadata": {},
   "outputs": [
    {
     "name": "stdout",
     "output_type": "stream",
     "text": [
      "1838\n",
      "1838\n"
     ]
    }
   ],
   "source": [
    "images = np.array(images)\n",
    "labels = np.array(labels)\n",
    "\n",
    "print(len(images))\n",
    "print(len(labels))"
   ]
  },
  {
   "cell_type": "code",
   "execution_count": null,
   "id": "fc60b92d",
   "metadata": {},
   "outputs": [],
   "source": []
  },
  {
   "cell_type": "code",
   "execution_count": 4,
   "id": "d145dc6c",
   "metadata": {},
   "outputs": [],
   "source": [
    "X_train, X_valid, y_train, y_valid = train_test_split(images, labels, test_size=0.2, random_state=42)\n"
   ]
  },
  {
   "cell_type": "code",
   "execution_count": 5,
   "id": "bfbab210",
   "metadata": {},
   "outputs": [
    {
     "name": "stdout",
     "output_type": "stream",
     "text": [
      "(1470, 224, 224)\n",
      "(1470,)\n",
      "(368, 224, 224)\n",
      "(368,)\n"
     ]
    }
   ],
   "source": [
    "print(X_train.shape)\n",
    "print(y_train.shape)\n",
    "print(X_valid.shape)\n",
    "print(y_valid.shape) "
   ]
  },
  {
   "cell_type": "code",
   "execution_count": null,
   "id": "39554211",
   "metadata": {},
   "outputs": [],
   "source": []
  },
  {
   "cell_type": "code",
   "execution_count": 6,
   "id": "e682611d",
   "metadata": {},
   "outputs": [],
   "source": [
    "from skimage.feature import local_binary_pattern\n",
    "from skimage.color import rgb2gray\n",
    "\n",
    "train_features = []\n",
    "for img in X_train:\n",
    "    lbp = local_binary_pattern(img, 8, 1)\n",
    "    hist, _ = np.histogram(lbp, bins=np.arange(0, 257), density=True)\n",
    "    train_features.append(hist)\n",
    "train_features = np.array(train_features)\n",
    "    \n",
    "valid_features = []\n",
    "for img in X_valid:\n",
    "    lbp = local_binary_pattern(img, 8, 1)\n",
    "    hist, _ = np.histogram(lbp, bins=np.arange(0, 257), density=True)\n",
    "    valid_features.append(hist)\n",
    "valid_features = np.array(valid_features)\n",
    "\n",
    "\n"
   ]
  },
  {
   "cell_type": "code",
   "execution_count": 7,
   "id": "359324ab",
   "metadata": {},
   "outputs": [
    {
     "name": "stdout",
     "output_type": "stream",
     "text": [
      "Accuracy: 48.641304347826086\n"
     ]
    }
   ],
   "source": [
    "from sklearn import svm\n",
    "\n",
    "model = svm.SVC(kernel='rbf', C=100,gamma='scale')  #removing degree getting best accuracy\n",
    "model.fit(train_features, y_train)\n",
    "y_pred = model.predict(valid_features)\n",
    "val_accuracy = accuracy_score(y_valid, y_pred)\n",
    "print('Accuracy:', val_accuracy*100)"
   ]
  },
  {
   "cell_type": "code",
   "execution_count": null,
   "id": "be9c7ed9",
   "metadata": {},
   "outputs": [],
   "source": []
  },
  {
   "cell_type": "code",
   "execution_count": 8,
   "id": "8e18ab14",
   "metadata": {},
   "outputs": [
    {
     "data": {
      "text/plain": [
       "['svm_classifier_model.pkl']"
      ]
     },
     "execution_count": 8,
     "metadata": {},
     "output_type": "execute_result"
    }
   ],
   "source": [
    "import joblib\n",
    "joblib.dump(model, 'svm_classifier_model.pkl')"
   ]
  },
  {
   "cell_type": "code",
   "execution_count": 9,
   "id": "3236221b",
   "metadata": {},
   "outputs": [],
   "source": [
    "clf = joblib.load('svm_classifier_model.pkl')"
   ]
  },
  {
   "cell_type": "code",
   "execution_count": null,
   "id": "8130a466",
   "metadata": {},
   "outputs": [],
   "source": []
  },
  {
   "cell_type": "code",
   "execution_count": 10,
   "id": "98f1f5a7",
   "metadata": {},
   "outputs": [],
   "source": [
    "# data_dir = r\"C:\\Users\\18138\\Desktop\\data anly\\Test Image sp 23\"\n",
    "# classes = os.listdir(data_dir)\n",
    "# images = []\n",
    "# labels = []\n",
    "# for class_id, class_name in enumerate(classes):\n",
    "#     class_dir = os.path.join(data_dir, class_name)\n",
    "#     for img_name in os.listdir(class_dir):\n",
    "#         img_path = os.path.join(class_dir, img_name)\n",
    "#         img = cv2.imread(img_path)\n",
    "#         img = cv2.cvtColor(img, cv2.COLOR_BGR2GRAY) # convert to grayscale\n",
    "#         img = cv2.resize(img, (224, 224))\n",
    "#         images.append(img)\n",
    "#         labels.append(class_id)"
   ]
  },
  {
   "cell_type": "code",
   "execution_count": 11,
   "id": "495bbda8",
   "metadata": {},
   "outputs": [],
   "source": [
    "data_dir = r\"C:\\Users\\18138\\Desktop\\data anly\\Test Image sp 23\"\n",
    "classes = os.listdir(data_dir)\n",
    "images = []\n",
    "labels = []\n",
    "image_names = []  # create a list to store the image names\n",
    "for class_id, class_name in enumerate(classes):\n",
    "    class_dir = os.path.join(data_dir, class_name)\n",
    "    for img_name in os.listdir(class_dir):\n",
    "        img_path = os.path.join(class_dir, img_name)\n",
    "        img = cv2.imread(img_path)\n",
    "        img = cv2.cvtColor(img, cv2.COLOR_BGR2GRAY) # convert to grayscale\n",
    "        img = cv2.resize(img, (224, 224))\n",
    "        images.append(img)\n",
    "        labels.append(class_id)\n",
    "        image_names.append(img_name)"
   ]
  },
  {
   "cell_type": "code",
   "execution_count": 12,
   "id": "f93b7095",
   "metadata": {},
   "outputs": [
    {
     "name": "stdout",
     "output_type": "stream",
     "text": [
      "480\n",
      "[0, 0, 0, 0, 0, 0, 0, 0, 0, 0, 0, 0, 0, 0, 0, 0, 0, 0, 0, 0, 0, 0, 0, 0, 0, 0, 0, 0, 0, 0, 1, 1, 1, 1, 1, 1, 1, 1, 1, 1, 1, 1, 1, 1, 1, 1, 1, 1, 1, 1, 1, 1, 1, 1, 1, 1, 1, 1, 1, 1, 2, 2, 2, 2, 2, 2, 2, 2, 2, 2, 2, 2, 2, 2, 2, 2, 2, 2, 2, 2, 2, 2, 2, 2, 2, 2, 2, 2, 2, 2, 3, 3, 3, 3, 3, 3, 3, 3, 3, 3, 3, 3, 3, 3, 3, 3, 3, 3, 3, 3, 3, 3, 3, 3, 3, 3, 3, 3, 3, 3, 4, 4, 4, 4, 4, 4, 4, 4, 4, 4, 4, 4, 4, 4, 4, 4, 4, 4, 4, 4, 4, 4, 4, 4, 4, 4, 4, 4, 4, 4, 5, 5, 5, 5, 5, 5, 5, 5, 5, 5, 5, 5, 5, 5, 5, 5, 5, 5, 5, 5, 5, 5, 5, 5, 5, 5, 5, 5, 5, 5, 6, 6, 6, 6, 6, 6, 6, 6, 6, 6, 6, 6, 6, 6, 6, 6, 6, 6, 6, 6, 6, 6, 6, 6, 6, 6, 6, 6, 6, 6, 7, 7, 7, 7, 7, 7, 7, 7, 7, 7, 7, 7, 7, 7, 7, 7, 7, 7, 7, 7, 7, 7, 7, 7, 7, 7, 7, 7, 7, 7, 8, 8, 8, 8, 8, 8, 8, 8, 8, 8, 8, 8, 8, 8, 8, 8, 8, 8, 8, 8, 8, 8, 8, 8, 8, 8, 8, 8, 8, 8, 9, 9, 9, 9, 9, 9, 9, 9, 9, 9, 9, 9, 9, 9, 9, 9, 9, 9, 9, 9, 9, 9, 9, 9, 9, 9, 9, 9, 9, 9, 10, 10, 10, 10, 10, 10, 10, 10, 10, 10, 10, 10, 10, 10, 10, 10, 10, 10, 10, 10, 10, 10, 10, 10, 10, 10, 10, 10, 10, 10, 11, 11, 11, 11, 11, 11, 11, 11, 11, 11, 11, 11, 11, 11, 11, 11, 11, 11, 11, 11, 11, 11, 11, 11, 11, 11, 11, 11, 11, 11, 12, 12, 12, 12, 12, 12, 12, 12, 12, 12, 12, 12, 12, 12, 12, 12, 12, 12, 12, 12, 12, 12, 12, 12, 12, 12, 12, 12, 12, 12, 13, 13, 13, 13, 13, 13, 13, 13, 13, 13, 13, 13, 13, 13, 13, 13, 13, 13, 13, 13, 13, 13, 13, 13, 13, 13, 13, 13, 13, 13, 14, 14, 14, 14, 14, 14, 14, 14, 14, 14, 14, 14, 14, 14, 14, 14, 14, 14, 14, 14, 14, 14, 14, 14, 14, 14, 14, 14, 14, 14, 15, 15, 15, 15, 15, 15, 15, 15, 15, 15, 15, 15, 15, 15, 15, 15, 15, 15, 15, 15, 15, 15, 15, 15, 15, 15, 15, 15, 15, 15]\n"
     ]
    }
   ],
   "source": [
    "print(len(labels))\n",
    "print(labels)\n"
   ]
  },
  {
   "cell_type": "code",
   "execution_count": 13,
   "id": "ee5a715e",
   "metadata": {},
   "outputs": [],
   "source": [
    "test_images = np.array(images)\n",
    "test_labels = np.array(labels)"
   ]
  },
  {
   "cell_type": "code",
   "execution_count": 14,
   "id": "2b8b2ccd",
   "metadata": {},
   "outputs": [],
   "source": [
    "test_features = []\n",
    "for img in test_images:\n",
    "    lbp = local_binary_pattern(img, 8, 1)\n",
    "    hist, _ = np.histogram(lbp, bins=np.arange(0, 257), density=True)\n",
    "    test_features.append(hist)\n",
    "test_features = np.array(test_features)"
   ]
  },
  {
   "cell_type": "code",
   "execution_count": 15,
   "id": "57a0bdb2",
   "metadata": {},
   "outputs": [
    {
     "name": "stdout",
     "output_type": "stream",
     "text": [
      "Accuracy: 43.125\n"
     ]
    }
   ],
   "source": [
    "y_pred_test = clf.predict(test_features)\n",
    "test_accuracy = accuracy_score(test_labels, y_pred_test)\n",
    "print('Accuracy:', test_accuracy*100)"
   ]
  },
  {
   "cell_type": "code",
   "execution_count": 16,
   "id": "fadeaae0",
   "metadata": {},
   "outputs": [
    {
     "name": "stdout",
     "output_type": "stream",
     "text": [
      "              precision    recall  f1-score   support\n",
      "\n",
      "       Adult       0.22      0.30      0.25        30\n",
      "    Airplane       0.53      0.67      0.59        30\n",
      "      Alpaca       0.43      0.67      0.52        30\n",
      "        Bird       0.28      0.17      0.21        30\n",
      "         Bus       0.89      0.80      0.84        30\n",
      "         Car       0.62      0.53      0.57        30\n",
      "         Cat       0.27      0.40      0.32        30\n",
      "       Child       0.29      0.17      0.21        30\n",
      "    Elephant       0.28      0.43      0.34        30\n",
      "      Flower       0.47      0.47      0.47        30\n",
      "     Giraffe       0.60      0.40      0.48        30\n",
      "       Horse       0.45      0.17      0.24        30\n",
      "      Monkey       0.36      0.33      0.34        30\n",
      "       Panda       0.40      0.47      0.43        30\n",
      "     Reptile       0.48      0.37      0.42        30\n",
      "      Vessel       0.63      0.57      0.60        30\n",
      "\n",
      "    accuracy                           0.43       480\n",
      "   macro avg       0.45      0.43      0.43       480\n",
      "weighted avg       0.45      0.43      0.43       480\n",
      "\n"
     ]
    }
   ],
   "source": [
    "classes = ['Adult', 'Airplane', 'Alpaca','Bird', 'Bus','Car', 'Cat', 'Child','Elephant', 'Flower','Giraffe', 'Horse','Monkey', 'Panda', 'Reptile','Vessel']\n",
    "print(classification_report(test_labels,y_pred_test,target_names=classes))"
   ]
  },
  {
   "cell_type": "code",
   "execution_count": null,
   "id": "a2fdba19",
   "metadata": {},
   "outputs": [],
   "source": []
  },
  {
   "cell_type": "code",
   "execution_count": 17,
   "id": "efd9e3d9",
   "metadata": {},
   "outputs": [
    {
     "data": {
      "text/plain": [
       "array([ 6,  0,  9,  6,  9,  0,  7,  0, 13,  0,  7,  9,  0,  6,  0, 13,  0,\n",
       "        7,  7,  0, 12,  7,  0, 11, 12,  8,  9,  9,  9, 12, 15,  1,  3,  1,\n",
       "        1,  1,  1,  1,  1,  1,  1,  3,  1,  1,  1,  1, 14,  3,  1,  1, 15,\n",
       "        1,  9,  0,  3,  1,  1,  1,  1,  3,  2,  2,  6,  2,  2,  2,  4, 10,\n",
       "        8,  2, 15,  2, 12,  2,  2,  2,  8,  2,  2, 10,  2, 13,  2,  2,  2,\n",
       "        2,  2,  2,  2, 13, 12,  9,  6,  1,  8,  3,  1, 15, 10,  6,  6,  3,\n",
       "        6, 14,  3,  1,  1,  1,  3,  6,  2, 15,  1,  0,  1,  9,  1,  3,  0,\n",
       "        6,  4,  0,  4,  4,  4,  4,  4,  5,  4,  4,  4,  4,  4,  4,  4,  4,\n",
       "        4,  5,  4,  4,  4,  5,  4,  1,  4,  4,  5,  4,  4,  4,  5, 15,  5,\n",
       "        2, 15,  0,  5, 15,  1,  1,  5,  5, 15,  5,  6,  3,  1,  5, 15,  5,\n",
       "        0,  5,  5,  5,  5,  5,  5,  5,  1,  5,  6, 12,  6, 13, 13, 14,  6,\n",
       "       13,  6,  7,  0,  2,  6,  6,  0, 12,  6,  0,  0,  0,  6, 12,  2,  6,\n",
       "        6, 13,  6,  6, 12,  2,  7,  5,  8,  0,  6,  6,  0,  0,  7,  6,  0,\n",
       "        7,  6,  7,  0,  0,  0,  0,  7,  0,  0, 12,  0,  0, 12,  5,  0,  0,\n",
       "        5,  5,  2,  2,  2,  2,  2,  2,  2, 13,  2,  2,  6, 10,  8,  8,  5,\n",
       "        8,  8, 11,  8,  8,  8,  8,  8,  8,  8,  8, 14,  8,  0, 13,  9, 11,\n",
       "        9,  9, 12,  9, 12,  3,  9,  9,  0,  6,  6,  9, 14,  9,  9,  1,  8,\n",
       "        9,  9, 12,  9,  8,  9, 12,  7,  0,  9, 12,  8,  8,  8,  2, 13, 10,\n",
       "        8,  4, 10, 10, 10,  3, 11,  2, 10, 10, 10, 13, 12, 10, 10,  2,  8,\n",
       "        8,  8, 10, 11, 10, 10,  5,  6,  8, 11, 11,  8,  8,  8,  8,  8,  8,\n",
       "        8, 11,  8, 11,  6,  8,  0,  6,  2,  7,  8,  2,  9, 14,  8,  8,  8,\n",
       "        8, 11,  8, 13,  0, 12,  6, 14,  6, 12, 13, 12,  2, 13, 13,  2, 14,\n",
       "        2,  6,  3, 13, 12,  9,  2,  6, 12, 12, 12, 12, 12, 12, 14, 14, 13,\n",
       "        3,  7, 13, 13, 13, 13, 13, 14, 13, 13, 13, 13,  0,  2, 14,  6, 13,\n",
       "        0, 13, 13,  9,  6,  7, 13,  7,  8,  6,  6,  6, 13, 14,  8,  1, 14,\n",
       "        2, 14, 14, 13,  9, 12, 13, 10,  2,  2, 14, 14,  7, 14, 10, 10,  6,\n",
       "       13, 14,  6, 14, 14,  6, 14, 10, 15,  3,  1,  9, 15,  1, 15,  4, 15,\n",
       "       15, 15, 15,  9, 15, 15,  9,  8,  3,  1, 15, 11, 15, 15, 15,  3, 15,\n",
       "       15, 15, 15,  8])"
      ]
     },
     "execution_count": 17,
     "metadata": {},
     "output_type": "execute_result"
    }
   ],
   "source": [
    "y_pred_test"
   ]
  },
  {
   "cell_type": "code",
   "execution_count": 18,
   "id": "6abeb404",
   "metadata": {},
   "outputs": [],
   "source": [
    "# test_label=[i[1] for i in test_data]\n",
    "# print(test_label)"
   ]
  },
  {
   "cell_type": "code",
   "execution_count": 19,
   "id": "2077d4f2",
   "metadata": {},
   "outputs": [],
   "source": [
    "# test_imgname=[i[2] for i in test_data]\n",
    "# print(test_imgname)"
   ]
  },
  {
   "cell_type": "code",
   "execution_count": 20,
   "id": "0ac2e75b",
   "metadata": {},
   "outputs": [],
   "source": [
    "data = { 'GIVEN IMAGE NAME':image_names , 'GIVEN TEST CLASS': labels, 'PREDICTED CLASS': y_pred_test}\n",
    "df = pd.DataFrame(data)\n",
    "df.to_csv(\"SVM_WITHOUT_PRETRAINED.csv\", index=False)"
   ]
  },
  {
   "cell_type": "code",
   "execution_count": null,
   "id": "04830b8f",
   "metadata": {},
   "outputs": [],
   "source": []
  },
  {
   "cell_type": "code",
   "execution_count": 21,
   "id": "cb42027c",
   "metadata": {},
   "outputs": [
    {
     "data": {
      "image/png": "[encoded data removed]",
      "text/plain": [
       "<Figure size 640x480 with 1 Axes>"
      ]
     },
     "metadata": {},
     "output_type": "display_data"
    }
   ],
   "source": [
    "plt.plot([1, 2], [val_accuracy, test_accuracy], marker='o')\n",
    "plt.xticks([1, 2], ['Validation', 'Test'])\n",
    "plt.ylabel('Accuracy')\n",
    "plt.title('Validation vs Test Accuracy(SVM_WITHOUT_PRETRAINED)')\n",
    "plt.show()"
   ]
  },
  {
   "cell_type": "code",
   "execution_count": null,
   "id": "2f77034b",
   "metadata": {},
   "outputs": [],
   "source": []
  },
  {
   "cell_type": "code",
   "execution_count": 22,
   "id": "432d9ddf",
   "metadata": {},
   "outputs": [
    {
     "name": "stdout",
     "output_type": "stream",
     "text": [
      "[[ 9  0  0  0  0  0  3  5  1  6  0  1  3  2  0  0]\n",
      " [ 1 20  0  5  0  0  0  0  0  1  0  0  0  0  1  2]\n",
      " [ 0  0 20  0  1  0  1  0  2  0  2  0  1  2  0  1]\n",
      " [ 2  8  1  5  0  0  6  0  1  2  1  0  1  0  1  2]\n",
      " [ 1  1  0  0 24  4  0  0  0  0  0  0  0  0  0  0]\n",
      " [ 2  4  1  1  0 16  1  0  0  0  0  0  0  0  0  5]\n",
      " [ 5  0  3  0  0  0 12  1  0  0  0  0  4  4  1  0]\n",
      " [14  0  0  0  0  4  4  5  1  0  0  0  2  0  0  0]\n",
      " [ 1  0  9  0  0  1  1  0 13  0  1  1  0  2  1  0]\n",
      " [ 2  1  0  1  0  0  2  1  2 14  0  1  5  0  1  0]\n",
      " [ 0  0  3  1  1  1  0  0  7  0 12  2  1  2  0  0]\n",
      " [ 1  0  2  0  0  0  3  1 16  1  0  5  0  0  1  0]\n",
      " [ 1  0  4  1  0  0  4  0  0  1  0  0 10  5  4  0]\n",
      " [ 2  0  1  1  0  0  5  3  1  1  0  0  0 14  2  0]\n",
      " [ 0  1  3  0  0  0  3  1  1  1  4  0  1  4 11  0]\n",
      " [ 0  3  0  3  1  0  0  0  2  3  0  1  0  0  0 17]]\n"
     ]
    }
   ],
   "source": [
    "from sklearn.metrics import confusion_matrix\n",
    "import numpy as np\n",
    "\n",
    "cm = confusion_matrix(test_labels, y_pred_test)\n",
    "print(cm)\n"
   ]
  },
  {
   "cell_type": "code",
   "execution_count": null,
   "id": "939c4cda",
   "metadata": {},
   "outputs": [],
   "source": [
    "\n"
   ]
  },
  {
   "cell_type": "code",
   "execution_count": 23,
   "id": "0913de01",
   "metadata": {},
   "outputs": [
    {
     "name": "stdout",
     "output_type": "stream",
     "text": [
      "480\n"
     ]
    }
   ],
   "source": [
    "print(len(image_names))"
   ]
  },
  {
   "cell_type": "code",
   "execution_count": null,
   "id": "0d1bd8c1",
   "metadata": {},
   "outputs": [],
   "source": []
  },
  {
   "cell_type": "code",
   "execution_count": null,
   "id": "93c3a139",
   "metadata": {},
   "outputs": [],
   "source": []
  }
 ],
 "metadata": {
  "kernelspec": {
   "display_name": "Python 3 (ipykernel)",
   "language": "python",
   "name": "python3"
  },
  "language_info": {
   "codemirror_mode": {
    "name": "ipython",
    "version": 3
   },
   "file_extension": ".py",
   "mimetype": "text/x-python",
   "name": "python",
   "nbconvert_exporter": "python",
   "pygments_lexer": "ipython3",
   "version": "3.9.13"
  }
 },
 "nbformat": 4,
 "nbformat_minor": 5
}
